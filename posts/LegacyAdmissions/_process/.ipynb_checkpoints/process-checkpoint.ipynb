{
 "cells": [
  {
   "cell_type": "code",
   "execution_count": null,
   "id": "424812a3",
   "metadata": {},
   "outputs": [],
   "source": [
    "import pandas as pd"
   ]
  },
  {
   "cell_type": "code",
   "execution_count": null,
   "id": "238f0170",
   "metadata": {},
   "outputs": [],
   "source": [
    "data = pd.read_csv('Data_7-22-2025---277.csv')\n",
    "data.head().to_csv('data_head.csv', index=False)"
   ]
  },
  {
   "cell_type": "code",
   "execution_count": null,
   "id": "af704d08",
   "metadata": {},
   "outputs": [],
   "source": [
    "pd"
   ]
  },
  {
   "cell_type": "code",
   "execution_count": null,
   "id": "32fad372",
   "metadata": {},
   "outputs": [],
   "source": []
  }
 ],
 "metadata": {
  "language_info": {
   "name": "python"
  }
 },
 "nbformat": 4,
 "nbformat_minor": 5
}
